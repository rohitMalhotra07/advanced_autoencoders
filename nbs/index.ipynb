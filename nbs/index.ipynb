{
 "cells": [
  {
   "cell_type": "code",
   "execution_count": null,
   "metadata": {},
   "outputs": [],
   "source": [
    "#| hide\n",
    "from advanced_autoencoders.core import *"
   ]
  },
  {
   "cell_type": "markdown",
   "metadata": {},
   "source": [
    "# advanced_autoencoders\n",
    "\n",
    "> Train VQ-VAE and ViTMAE for image embeddings"
   ]
  },
  {
   "cell_type": "markdown",
   "metadata": {},
   "source": [
    "> Using Lightning to train models"
   ]
  },
  {
   "cell_type": "markdown",
   "metadata": {},
   "source": [
    "## Install"
   ]
  },
  {
   "cell_type": "markdown",
   "metadata": {},
   "source": [
    "```sh\n",
    "pip install advanced_autoencoders\n",
    "```"
   ]
  },
  {
   "cell_type": "markdown",
   "metadata": {},
   "source": [
    "## How to use"
   ]
  },
  {
   "cell_type": "markdown",
   "metadata": {},
   "source": [
    "* from advanced_autoencoders.training_pipelines import train_pipeline_mae,train_pipeline_vqvae"
   ]
  },
  {
   "cell_type": "markdown",
   "metadata": {},
   "source": [
    "* To train VQ-VAE:\n",
    "\n",
    "* Checkout nbs/training_pipelines.ipynb and train_pipeline_vqvae function\n",
    "* Make changes in config file in ConfigVQVAE\n",
    "\n",
    "* To train VitMAE:\n",
    "\n",
    "* Checkout nbs/training_pipelines.ipynb and train_pipeline_mae function\n",
    "* Make changes in config file in ConfigMaeLarge"
   ]
  },
  {
   "cell_type": "code",
   "execution_count": null,
   "metadata": {},
   "outputs": [],
   "source": []
  }
 ],
 "metadata": {
  "kernelspec": {
   "display_name": "python3",
   "language": "python",
   "name": "python3"
  }
 },
 "nbformat": 4,
 "nbformat_minor": 4
}
