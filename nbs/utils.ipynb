{
 "cells": [
  {
   "cell_type": "markdown",
   "id": "648204dc-6288-4274-bdc5-a72274f1728a",
   "metadata": {},
   "source": [
    "# Utils"
   ]
  },
  {
   "cell_type": "code",
   "execution_count": null,
   "id": "982eb496-5afb-429e-b7bc-f2981abaaff1",
   "metadata": {},
   "outputs": [],
   "source": [
    "#| default_exp utils"
   ]
  },
  {
   "cell_type": "code",
   "execution_count": null,
   "id": "d8507ac9-3844-417e-b369-238ddd248d68",
   "metadata": {},
   "outputs": [],
   "source": [
    "#| exports\n",
    "import os\n",
    "import random\n",
    "from pathlib import Path\n",
    "\n",
    "import numpy as np\n",
    "import pandas as pd\n",
    "import torch\n",
    "import torchvision.transforms as transforms"
   ]
  },
  {
   "cell_type": "code",
   "execution_count": null,
   "id": "25c7034b-5e8c-4f57-9457-33b83d23ced6",
   "metadata": {},
   "outputs": [],
   "source": []
  },
  {
   "cell_type": "code",
   "execution_count": null,
   "id": "b6866f91-6c18-4311-b77a-067a7be85763",
   "metadata": {},
   "outputs": [],
   "source": [
    "#| exports\n",
    "def seed_everything(seed=42):\n",
    "    random.seed(seed)\n",
    "    os.environ[\"PYTHONASSEED\"] = str(seed)\n",
    "    np.random.seed(seed)\n",
    "    torch.manual_seed(seed)\n",
    "    torch.cuda.manual_seed(seed)\n",
    "    torch.cuda.manual_seed_all(seed)\n",
    "    torch.backends.cudnn.deterministic = True\n",
    "    torch.backends.cudnn.benchmark = True"
   ]
  },
  {
   "cell_type": "code",
   "execution_count": null,
   "id": "53629f89-b747-496a-a518-bfa0326bc17a",
   "metadata": {},
   "outputs": [],
   "source": []
  },
  {
   "cell_type": "code",
   "execution_count": null,
   "id": "ac850a94-6dcf-4d0a-b58e-e608a12e1edd",
   "metadata": {},
   "outputs": [],
   "source": [
    "#| exports\n",
    "def make_images_dataframe(cnfg) -> pd.DataFrame:\n",
    "    \"\"\"\n",
    "    Makes a dataframe of all images in the image dir\n",
    "    \"\"\"\n",
    "    dir_images = Path(cnfg.IMG_DIR)\n",
    "    all_image_names = [f.stem for f in dir_images.iterdir() if f.suffix != \"\"]\n",
    "    all_image_suffix = [f.suffix for f in dir_images.iterdir() if f.suffix != \"\"]\n",
    "    df_all = pd.DataFrame(\n",
    "        {\"image_name\": all_image_names, \"image_sufix\": all_image_suffix}\n",
    "    )\n",
    "\n",
    "    df_all[\"file_image\"] = df_all.apply(\n",
    "        lambda x: str(dir_images / f\"{x.image_name}{x.image_sufix}\"), axis=1\n",
    "    )\n",
    "\n",
    "    # df_all = df_all.sample(100).reset_index(drop=True)\n",
    "\n",
    "    return df_all"
   ]
  },
  {
   "cell_type": "code",
   "execution_count": null,
   "id": "af4af698-d4d4-43ec-a1cb-066ea5eaf2bd",
   "metadata": {},
   "outputs": [],
   "source": []
  },
  {
   "cell_type": "code",
   "execution_count": null,
   "id": "7a06218b-85be-41c9-81de-4a2a9f807ad4",
   "metadata": {},
   "outputs": [],
   "source": [
    "#| exports\n",
    "def get_train_transforms(cnfg):\n",
    "    transform_train = transforms.Compose(\n",
    "        [\n",
    "            # transforms.RandomCrop(cnfg.img_size, padding=4),\n",
    "            transforms.Resize((cnfg.img_size, cnfg.img_size)),\n",
    "            transforms.RandomHorizontalFlip(),\n",
    "            transforms.ToTensor(),\n",
    "            # transforms.Normalize((0.4914, 0.4822, 0.4465), (0.2023, 0.1994, 0.2010)),\n",
    "        ]\n",
    "    )\n",
    "\n",
    "    return transform_train"
   ]
  },
  {
   "cell_type": "code",
   "execution_count": null,
   "id": "21204dd6-8752-4af2-a373-098f50f612d0",
   "metadata": {},
   "outputs": [],
   "source": [
    "#| exports\n",
    "def get_test_transforms(cnfg):\n",
    "    transform_test = transforms.Compose(\n",
    "        [\n",
    "            transforms.Resize((cnfg.img_size, cnfg.img_size)),\n",
    "            transforms.ToTensor(),\n",
    "            # transforms.Normalize((0.4914, 0.4822, 0.4465), (0.2023, 0.1994, 0.2010)),\n",
    "        ]\n",
    "    )\n",
    "    return transform_test"
   ]
  },
  {
   "cell_type": "code",
   "execution_count": null,
   "id": "d50058d0-c88b-4279-8252-78c4f7e7ce99",
   "metadata": {},
   "outputs": [],
   "source": [
    "#| exports\n",
    "def get_2d_sincos_pos_embed(embed_dim, grid_size, cls_token=False):\n",
    "    \"\"\"\n",
    "    grid_size: int of the grid height and width\n",
    "    return:\n",
    "    pos_embed: [grid_size*grid_size, embed_dim] or [1+grid_size*grid_size, embed_dim] (w/ or w/o cls_token)\n",
    "    \"\"\"\n",
    "    grid_h = np.arange(grid_size, dtype=np.float32)\n",
    "    grid_w = np.arange(grid_size, dtype=np.float32)\n",
    "    grid = np.meshgrid(grid_w, grid_h)  # here w goes first\n",
    "    grid = np.stack(grid, axis=0)\n",
    "\n",
    "    grid = grid.reshape([2, 1, grid_size, grid_size])\n",
    "    pos_embed = get_2d_sincos_pos_embed_from_grid(embed_dim, grid)\n",
    "    if cls_token:\n",
    "        pos_embed = np.concatenate([np.zeros([1, embed_dim]), pos_embed], axis=0)\n",
    "    return pos_embed"
   ]
  },
  {
   "cell_type": "code",
   "execution_count": null,
   "id": "c1cf0c1d-abbb-48a1-bdc2-2898ecd299e8",
   "metadata": {},
   "outputs": [],
   "source": [
    "#| exports\n",
    "def get_2d_sincos_pos_embed(embed_dim, grid_size, cls_token=False):\n",
    "    \"\"\"\n",
    "    grid_size: int of the grid height and width\n",
    "    return:\n",
    "    pos_embed: [grid_size*grid_size, embed_dim] or [1+grid_size*grid_size, embed_dim] (w/ or w/o cls_token)\n",
    "    \"\"\"\n",
    "    grid_h = np.arange(grid_size, dtype=np.float32)\n",
    "    grid_w = np.arange(grid_size, dtype=np.float32)\n",
    "    grid = np.meshgrid(grid_w, grid_h)  # here w goes first\n",
    "    grid = np.stack(grid, axis=0)\n",
    "\n",
    "    grid = grid.reshape([2, 1, grid_size, grid_size])\n",
    "    pos_embed = get_2d_sincos_pos_embed_from_grid(embed_dim, grid)\n",
    "    if cls_token:\n",
    "        pos_embed = np.concatenate([np.zeros([1, embed_dim]), pos_embed], axis=0)\n",
    "    return pos_embed"
   ]
  },
  {
   "cell_type": "code",
   "execution_count": null,
   "id": "eeb23664-56cb-4a8f-988a-f1d9fc6f2300",
   "metadata": {},
   "outputs": [],
   "source": [
    "#| exports\n",
    "def get_2d_sincos_pos_embed_from_grid(embed_dim, grid):\n",
    "    assert embed_dim % 2 == 0\n",
    "\n",
    "    # use half of dimensions to encode grid_h\n",
    "    emb_h = get_1d_sincos_pos_embed_from_grid(embed_dim // 2, grid[0])  # (H*W, D/2)\n",
    "    emb_w = get_1d_sincos_pos_embed_from_grid(embed_dim // 2, grid[1])  # (H*W, D/2)\n",
    "\n",
    "    emb = np.concatenate([emb_h, emb_w], axis=1)  # (H*W, D)\n",
    "    return emb"
   ]
  },
  {
   "cell_type": "code",
   "execution_count": null,
   "id": "912964ef-6acb-4282-9ac2-552aafa2e332",
   "metadata": {},
   "outputs": [],
   "source": [
    "#| exports\n",
    "def get_1d_sincos_pos_embed_from_grid(embed_dim, pos):\n",
    "    \"\"\"\n",
    "    embed_dim: output dimension for each position\n",
    "    pos: a list of positions to be encoded: size (M,)\n",
    "    out: (M, D)\n",
    "    \"\"\"\n",
    "    assert embed_dim % 2 == 0\n",
    "    omega = np.arange(embed_dim // 2, dtype=np.float_)\n",
    "    omega /= embed_dim / 2.0\n",
    "    omega = 1.0 / 10000**omega  # (D/2,)\n",
    "\n",
    "    pos = pos.reshape(-1)  # (M,)\n",
    "    out = np.einsum(\"m,d->md\", pos, omega)  # (M, D/2), outer product\n",
    "\n",
    "    emb_sin = np.sin(out)  # (M, D/2)\n",
    "    emb_cos = np.cos(out)  # (M, D/2)\n",
    "\n",
    "    emb = np.concatenate([emb_sin, emb_cos], axis=1)  # (M, D)\n",
    "    return emb"
   ]
  },
  {
   "cell_type": "code",
   "execution_count": null,
   "id": "7912ce6d-241f-4613-a9d8-429953cb348b",
   "metadata": {},
   "outputs": [],
   "source": [
    "#| exports\n",
    "def get_1d_sincos_pos_embed_from_grid(embed_dim, pos):\n",
    "    \"\"\"\n",
    "    embed_dim: output dimension for each position\n",
    "    pos: a list of positions to be encoded: size (M,)\n",
    "    out: (M, D)\n",
    "    \"\"\"\n",
    "    assert embed_dim % 2 == 0\n",
    "    omega = np.arange(embed_dim // 2, dtype=np.float_)\n",
    "    omega /= embed_dim / 2.0\n",
    "    omega = 1.0 / 10000**omega  # (D/2,)\n",
    "\n",
    "    pos = pos.reshape(-1)  # (M,)\n",
    "    out = np.einsum(\"m,d->md\", pos, omega)  # (M, D/2), outer product\n",
    "\n",
    "    emb_sin = np.sin(out)  # (M, D/2)\n",
    "    emb_cos = np.cos(out)  # (M, D/2)\n",
    "\n",
    "    emb = np.concatenate([emb_sin, emb_cos], axis=1)  # (M, D)\n",
    "    return emb"
   ]
  },
  {
   "cell_type": "code",
   "execution_count": null,
   "id": "61b20079-8a62-4e4c-8fcf-cc7c68ab15ee",
   "metadata": {},
   "outputs": [],
   "source": [
    "#| exports\n",
    "def interpolate_pos_embed(model, checkpoint_model):\n",
    "    if \"pos_embed\" in checkpoint_model:\n",
    "        pos_embed_checkpoint = checkpoint_model[\"pos_embed\"]\n",
    "        embedding_size = pos_embed_checkpoint.shape[-1]\n",
    "        num_patches = model.patch_embed.num_patches\n",
    "        num_extra_tokens = model.pos_embed.shape[-2] - num_patches\n",
    "        # height (== width) for the checkpoint position embedding\n",
    "        orig_size = int((pos_embed_checkpoint.shape[-2] - num_extra_tokens) ** 0.5)\n",
    "        # height (== width) for the new position embedding\n",
    "        new_size = int(num_patches**0.5)\n",
    "        # class_token and dist_token are kept unchanged\n",
    "        if orig_size != new_size:\n",
    "            print(\n",
    "                \"Position interpolate from %dx%d to %dx%d\"\n",
    "                % (orig_size, orig_size, new_size, new_size)\n",
    "            )\n",
    "            extra_tokens = pos_embed_checkpoint[:, :num_extra_tokens]\n",
    "            # only the position tokens are interpolated\n",
    "            pos_tokens = pos_embed_checkpoint[:, num_extra_tokens:]\n",
    "            pos_tokens = pos_tokens.reshape(\n",
    "                -1, orig_size, orig_size, embedding_size\n",
    "            ).permute(0, 3, 1, 2)\n",
    "            pos_tokens = torch.nn.functional.interpolate(\n",
    "                pos_tokens,\n",
    "                size=(new_size, new_size),\n",
    "                mode=\"bicubic\",\n",
    "                align_corners=False,\n",
    "            )\n",
    "            pos_tokens = pos_tokens.permute(0, 2, 3, 1).flatten(1, 2)\n",
    "            new_pos_embed = torch.cat((extra_tokens, pos_tokens), dim=1)\n",
    "            checkpoint_model[\"pos_embed\"] = new_pos_embed"
   ]
  },
  {
   "cell_type": "code",
   "execution_count": null,
   "id": "2d88c449-1a15-4f71-8b23-d99e44d77c53",
   "metadata": {},
   "outputs": [],
   "source": []
  },
  {
   "cell_type": "code",
   "execution_count": null,
   "id": "842d592d-cd9d-4718-b1e7-cddc6d3318fb",
   "metadata": {},
   "outputs": [],
   "source": []
  },
  {
   "cell_type": "code",
   "execution_count": null,
   "id": "6c1b64a3-12b2-44ae-9fe3-8326d1c7e017",
   "metadata": {},
   "outputs": [],
   "source": []
  }
 ],
 "metadata": {
  "kernelspec": {
   "display_name": "python3",
   "language": "python",
   "name": "python3"
  }
 },
 "nbformat": 4,
 "nbformat_minor": 5
}
