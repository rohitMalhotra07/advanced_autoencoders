{
 "cells": [
  {
   "cell_type": "markdown",
   "id": "0f89e850-c9fd-47e5-899f-2f09a54f8c0d",
   "metadata": {},
   "source": [
    "# Define Datasets for dataloaders"
   ]
  },
  {
   "cell_type": "code",
   "execution_count": null,
   "id": "71af0060-25b9-448b-a107-c13fcadb009b",
   "metadata": {},
   "outputs": [],
   "source": [
    "#| default_exp dataset"
   ]
  },
  {
   "cell_type": "code",
   "execution_count": null,
   "id": "9661d1f7-9768-4bad-8987-b2e90e0102fb",
   "metadata": {},
   "outputs": [],
   "source": [
    "#| exports\n",
    "import cv2\n",
    "import PIL\n",
    "from torch.utils.data import Dataset"
   ]
  },
  {
   "cell_type": "code",
   "execution_count": null,
   "id": "f4a4f250-635c-4eac-b9be-342f799dda74",
   "metadata": {},
   "outputs": [],
   "source": []
  },
  {
   "cell_type": "code",
   "execution_count": null,
   "id": "3dbeca8a-b766-48c4-b038-9d89b5a737a0",
   "metadata": {},
   "outputs": [],
   "source": []
  },
  {
   "cell_type": "code",
   "execution_count": null,
   "id": "19079b22-6e03-4e23-babb-6af4fd244cb2",
   "metadata": {},
   "outputs": [],
   "source": [
    "#| exports\n",
    "class MyImageDataset(Dataset):\n",
    "    def __init__(self, df, augmentations):\n",
    "        self.df = df\n",
    "        self.augmentations = augmentations\n",
    "\n",
    "    def __getitem__(self, idx):\n",
    "        path = self.df.iloc[idx][\"file_image\"]\n",
    "        image = cv2.imread(path, cv2.IMREAD_COLOR)\n",
    "        image = cv2.cvtColor(image, cv2.COLOR_BGR2RGB)\n",
    "\n",
    "        if self.augmentations:\n",
    "            image = self.augmentations(PIL.Image.fromarray(image))\n",
    "            # image = augmented[\"image\"]\n",
    "\n",
    "        return image\n",
    "\n",
    "    def __len__(self):\n",
    "        return len(self.df)"
   ]
  }
 ],
 "metadata": {
  "kernelspec": {
   "display_name": "python3",
   "language": "python",
   "name": "python3"
  }
 },
 "nbformat": 4,
 "nbformat_minor": 5
}
