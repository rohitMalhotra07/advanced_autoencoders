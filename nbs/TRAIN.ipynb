{
 "cells": [
  {
   "cell_type": "markdown",
   "id": "b8cc7c60-e4ac-4e9f-90f6-3eaf156810c3",
   "metadata": {},
   "source": [
    "# Train model"
   ]
  },
  {
   "cell_type": "code",
   "execution_count": null,
   "id": "14a31957-4f78-4358-92aa-3d4e5dea5559",
   "metadata": {},
   "outputs": [],
   "source": [
    "from advanced_autoencoders.training_pipelines import (\n",
    "    train_pipeline_mae,\n",
    "    train_pipeline_vqvae,\n",
    ")"
   ]
  },
  {
   "cell_type": "code",
   "execution_count": null,
   "id": "15816846-2c66-4fcb-bc0a-6cb10d2c96d6",
   "metadata": {},
   "outputs": [],
   "source": []
  },
  {
   "cell_type": "code",
   "execution_count": null,
   "id": "fcb9fb5f-15b4-442e-a9de-83b1fcee38a4",
   "metadata": {},
   "outputs": [],
   "source": []
  },
  {
   "cell_type": "code",
   "execution_count": null,
   "id": "a9da7ff4-9fa5-4e0b-bb14-de609035d7ee",
   "metadata": {},
   "outputs": [],
   "source": [
    "# train_pipeline_mae()"
   ]
  },
  {
   "cell_type": "code",
   "execution_count": null,
   "id": "801f8476-3490-4212-9bf0-1baf1279001e",
   "metadata": {},
   "outputs": [
    {
     "name": "stderr",
     "output_type": "stream",
     "text": [
      "GPU available: True (cuda), used: True\n",
      "TPU available: False, using: 0 TPU cores\n",
      "IPU available: False, using: 0 IPUs\n",
      "HPU available: False, using: 0 HPUs\n",
      "You are using a CUDA device ('NVIDIA GeForce RTX 3090') that has Tensor Cores. To properly utilize them, you should set `torch.set_float32_matmul_precision('medium' | 'high')` which will trade-off precision for performance. For more details, read https://pytorch.org/docs/stable/generated/torch.set_float32_matmul_precision.html#torch.set_float32_matmul_precision\n",
      "Missing logger folder: ../training_logs/dalle_vq_vae_32_32_2_v2/lightning_logs\n"
     ]
    },
    {
     "name": "stdout",
     "output_type": "stream",
     "text": [
      "Making Image DF from DIR DONE! TOTAL IMAGES:64467\n",
      "TRAIN VAL SPLIT DONE! TOTAL IMAGES TRAIN:51573, VAL:12894\n"
     ]
    },
    {
     "name": "stderr",
     "output_type": "stream",
     "text": [
      "LOCAL_RANK: 0 - CUDA_VISIBLE_DEVICES: [0]\n",
      "\n",
      "  | Name  | Type    | Params\n",
      "----------------------------------\n",
      "0 | model | MyVQVAE | 2.6 M \n",
      "----------------------------------\n",
      "2.6 M     Trainable params\n",
      "0         Non-trainable params\n",
      "2.6 M     Total params\n",
      "10.327    Total estimated model params size (MB)\n"
     ]
    },
    {
     "data": {
      "application/vnd.jupyter.widget-view+json": {
       "model_id": "",
       "version_major": 2,
       "version_minor": 0
      },
      "text/plain": [
       "Sanity Checking: |                                                                                            …"
      ]
     },
     "metadata": {},
     "output_type": "display_data"
    },
    {
     "name": "stdout",
     "output_type": "stream",
     "text": [
      "Validity check done!\n"
     ]
    },
    {
     "data": {
      "application/vnd.jupyter.widget-view+json": {
       "model_id": "339b60f0bfbb4ef18411629de568a86f",
       "version_major": 2,
       "version_minor": 0
      },
      "text/plain": [
       "Training: |                                                                                                   …"
      ]
     },
     "metadata": {},
     "output_type": "display_data"
    },
    {
     "data": {
      "application/vnd.jupyter.widget-view+json": {
       "model_id": "",
       "version_major": 2,
       "version_minor": 0
      },
      "text/plain": [
       "Validation: |                                                                                                 …"
      ]
     },
     "metadata": {},
     "output_type": "display_data"
    },
    {
     "name": "stdout",
     "output_type": "stream",
     "text": [
      "Epoch:0 |Train Loss:None|Valid Loss:0.009015339020971614|Rec Loss:0.008881247111384084\n",
      "\u001b[32mRec Loss Decreased from 99999 to 0.008881247111384084\u001b[0m\n"
     ]
    },
    {
     "name": "stderr",
     "output_type": "stream",
     "text": [
      "Clipping input data to the valid range for imshow with RGB data ([0..1] for floats or [0..255] for integers).\n"
     ]
    },
    {
     "data": {
      "application/vnd.jupyter.widget-view+json": {
       "model_id": "",
       "version_major": 2,
       "version_minor": 0
      },
      "text/plain": [
       "Validation: |                                                                                                 …"
      ]
     },
     "metadata": {},
     "output_type": "display_data"
    },
    {
     "name": "stderr",
     "output_type": "stream",
     "text": [
      "Clipping input data to the valid range for imshow with RGB data ([0..1] for floats or [0..255] for integers).\n"
     ]
    },
    {
     "name": "stdout",
     "output_type": "stream",
     "text": [
      "Epoch:1 |Train Loss:0.11739672582755997|Valid Loss:0.006904049202486283|Rec Loss:0.0068372955227658004\n",
      "\u001b[32mRec Loss Decreased from 0.008881247111384084 to 0.0068372955227658004\u001b[0m\n"
     ]
    },
    {
     "data": {
      "application/vnd.jupyter.widget-view+json": {
       "model_id": "",
       "version_major": 2,
       "version_minor": 0
      },
      "text/plain": [
       "Validation: |                                                                                                 …"
      ]
     },
     "metadata": {},
     "output_type": "display_data"
    },
    {
     "name": "stderr",
     "output_type": "stream",
     "text": [
      "Clipping input data to the valid range for imshow with RGB data ([0..1] for floats or [0..255] for integers).\n"
     ]
    },
    {
     "name": "stdout",
     "output_type": "stream",
     "text": [
      "Epoch:2 |Train Loss:0.007579564172936321|Valid Loss:0.006650626705498389|Rec Loss:0.006601408638041651\n",
      "\u001b[32mRec Loss Decreased from 0.0068372955227658004 to 0.006601408638041651\u001b[0m\n"
     ]
    }
   ],
   "source": [
    "train_pipeline_vqvae()"
   ]
  },
  {
   "cell_type": "code",
   "execution_count": null,
   "id": "ee76849d-b420-45cd-843e-7c7215092f08",
   "metadata": {},
   "outputs": [],
   "source": []
  }
 ],
 "metadata": {
  "kernelspec": {
   "display_name": "python3",
   "language": "python",
   "name": "python3"
  }
 },
 "nbformat": 4,
 "nbformat_minor": 5
}
